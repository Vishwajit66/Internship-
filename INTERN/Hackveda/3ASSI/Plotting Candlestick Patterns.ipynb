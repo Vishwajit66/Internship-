{
 "cells": [
  {
   "cell_type": "code",
   "execution_count": 1,
   "id": "52ebc11e",
   "metadata": {},
   "outputs": [],
   "source": [
    "import pandas as pd"
   ]
  },
  {
   "cell_type": "code",
   "execution_count": 2,
   "id": "68acc3df",
   "metadata": {},
   "outputs": [
    {
     "data": {
      "text/html": [
       "<div>\n",
       "<style scoped>\n",
       "    .dataframe tbody tr th:only-of-type {\n",
       "        vertical-align: middle;\n",
       "    }\n",
       "\n",
       "    .dataframe tbody tr th {\n",
       "        vertical-align: top;\n",
       "    }\n",
       "\n",
       "    .dataframe thead th {\n",
       "        text-align: right;\n",
       "    }\n",
       "</style>\n",
       "<table border=\"1\" class=\"dataframe\">\n",
       "  <thead>\n",
       "    <tr style=\"text-align: right;\">\n",
       "      <th></th>\n",
       "      <th>Open</th>\n",
       "      <th>High</th>\n",
       "      <th>Low</th>\n",
       "      <th>Close</th>\n",
       "      <th>Adj Close</th>\n",
       "      <th>Volume</th>\n",
       "    </tr>\n",
       "    <tr>\n",
       "      <th>Date</th>\n",
       "      <th></th>\n",
       "      <th></th>\n",
       "      <th></th>\n",
       "      <th></th>\n",
       "      <th></th>\n",
       "      <th></th>\n",
       "    </tr>\n",
       "  </thead>\n",
       "  <tbody>\n",
       "    <tr>\n",
       "      <th>2020-03-02</th>\n",
       "      <td>282.279999</td>\n",
       "      <td>301.440002</td>\n",
       "      <td>277.720001</td>\n",
       "      <td>298.809998</td>\n",
       "      <td>298.809998</td>\n",
       "      <td>85349300</td>\n",
       "    </tr>\n",
       "    <tr>\n",
       "      <th>2020-03-03</th>\n",
       "      <td>303.670013</td>\n",
       "      <td>304.000000</td>\n",
       "      <td>285.799988</td>\n",
       "      <td>289.320007</td>\n",
       "      <td>289.320007</td>\n",
       "      <td>79868900</td>\n",
       "    </tr>\n",
       "    <tr>\n",
       "      <th>2020-03-04</th>\n",
       "      <td>296.440002</td>\n",
       "      <td>303.399994</td>\n",
       "      <td>293.130005</td>\n",
       "      <td>302.739990</td>\n",
       "      <td>302.739990</td>\n",
       "      <td>54794600</td>\n",
       "    </tr>\n",
       "    <tr>\n",
       "      <th>2020-03-05</th>\n",
       "      <td>295.519989</td>\n",
       "      <td>299.549988</td>\n",
       "      <td>291.410004</td>\n",
       "      <td>292.920013</td>\n",
       "      <td>292.920013</td>\n",
       "      <td>46893200</td>\n",
       "    </tr>\n",
       "    <tr>\n",
       "      <th>2020-03-06</th>\n",
       "      <td>282.000000</td>\n",
       "      <td>290.820007</td>\n",
       "      <td>281.230011</td>\n",
       "      <td>289.029999</td>\n",
       "      <td>289.029999</td>\n",
       "      <td>56544200</td>\n",
       "    </tr>\n",
       "  </tbody>\n",
       "</table>\n",
       "</div>"
      ],
      "text/plain": [
       "                  Open        High         Low       Close   Adj Close  \\\n",
       "Date                                                                     \n",
       "2020-03-02  282.279999  301.440002  277.720001  298.809998  298.809998   \n",
       "2020-03-03  303.670013  304.000000  285.799988  289.320007  289.320007   \n",
       "2020-03-04  296.440002  303.399994  293.130005  302.739990  302.739990   \n",
       "2020-03-05  295.519989  299.549988  291.410004  292.920013  292.920013   \n",
       "2020-03-06  282.000000  290.820007  281.230011  289.029999  289.029999   \n",
       "\n",
       "              Volume  \n",
       "Date                  \n",
       "2020-03-02  85349300  \n",
       "2020-03-03  79868900  \n",
       "2020-03-04  54794600  \n",
       "2020-03-05  46893200  \n",
       "2020-03-06  56544200  "
      ]
     },
     "execution_count": 2,
     "metadata": {},
     "output_type": "execute_result"
    }
   ],
   "source": [
    "apple_df = pd.read_csv('AAPL.csv', index_col=0, parse_dates=True)\n",
    "dt_range = pd.date_range(start=\"2020-03-01\", end=\"2020-03-31\")\n",
    "apple_df = apple_df[apple_df.index.isin(dt_range)]\n",
    "apple_df.head()"
   ]
  },
  {
   "cell_type": "code",
   "execution_count": 3,
   "id": "fea997b2",
   "metadata": {},
   "outputs": [
    {
     "ename": "ModuleNotFoundError",
     "evalue": "No module named 'talib'",
     "output_type": "error",
     "traceback": [
      "\u001b[1;31m---------------------------------------------------------------------------\u001b[0m",
      "\u001b[1;31mModuleNotFoundError\u001b[0m                       Traceback (most recent call last)",
      "Cell \u001b[1;32mIn[3], line 1\u001b[0m\n\u001b[1;32m----> 1\u001b[0m \u001b[38;5;28;01mimport\u001b[39;00m \u001b[38;5;21;01mtalib\u001b[39;00m\n",
      "\u001b[1;31mModuleNotFoundError\u001b[0m: No module named 'talib'"
     ]
    }
   ],
   "source": [
    "import talib"
   ]
  },
  {
   "cell_type": "code",
   "execution_count": null,
   "id": "ae84cc7d",
   "metadata": {},
   "outputs": [],
   "source": []
  }
 ],
 "metadata": {
  "kernelspec": {
   "display_name": "Python 3 (ipykernel)",
   "language": "python",
   "name": "python3"
  },
  "language_info": {
   "codemirror_mode": {
    "name": "ipython",
    "version": 3
   },
   "file_extension": ".py",
   "mimetype": "text/x-python",
   "name": "python",
   "nbconvert_exporter": "python",
   "pygments_lexer": "ipython3",
   "version": "3.11.5"
  }
 },
 "nbformat": 4,
 "nbformat_minor": 5
}
