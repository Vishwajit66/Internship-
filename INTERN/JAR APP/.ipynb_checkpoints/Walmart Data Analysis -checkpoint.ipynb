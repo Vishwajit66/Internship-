{
 "cells": [
  {
   "cell_type": "code",
   "execution_count": 1,
   "id": "cdb454c4",
   "metadata": {},
   "outputs": [],
   "source": [
    "import pandas as pd\n"
   ]
  },
  {
   "cell_type": "code",
   "execution_count": 4,
   "id": "c4b899d7",
   "metadata": {},
   "outputs": [],
   "source": [
    "walmart_data = pd.read_excel('Walmart Sales.xlsx')"
   ]
  },
  {
   "cell_type": "code",
   "execution_count": 5,
   "id": "b74d05c7",
   "metadata": {},
   "outputs": [
    {
     "name": "stdout",
     "output_type": "stream",
     "text": [
      "    Invoice ID Branch       City Customer type  Gender  \\\n",
      "0  750-67-8428      A     Yangon        Member  Female   \n",
      "1  226-31-3081      A  Naypyitaw        Normal  Female   \n",
      "2  631-41-3108      A     Yangon        Normal    Male   \n",
      "3  123-19-1176      B     Yangon        Member    Male   \n",
      "4  373-73-7910      C     Yangon        Normal    Male   \n",
      "\n",
      "             Product line  Unit price  Quantity       Date      Time  \\\n",
      "0       Health and beauty       74.69         7   1/5/2019  13:08:00   \n",
      "1  Electronic accessories       15.28         5   3/8/2019  10:29:00   \n",
      "2      Home and lifestyle       46.33         7   3/3/2019  13:23:00   \n",
      "3       Health and beauty       58.22         8  1/27/2019  20:33:00   \n",
      "4       Sports and travel       86.31         7   2/8/2019  10:37:00   \n",
      "\n",
      "       Payment  Rating  \n",
      "0      Ewallet     9.1  \n",
      "1         Cash     9.6  \n",
      "2  Credit card     7.4  \n",
      "3      Ewallet     8.4  \n",
      "4      Ewallet     5.3  \n"
     ]
    }
   ],
   "source": [
    "print(walmart_data.head())"
   ]
  },
  {
   "cell_type": "code",
   "execution_count": 7,
   "id": "79f37c13",
   "metadata": {},
   "outputs": [
    {
     "data": {
      "text/plain": [
       "(1000, 12)"
      ]
     },
     "execution_count": 7,
     "metadata": {},
     "output_type": "execute_result"
    }
   ],
   "source": [
    "walmart_data.shape\n"
   ]
  },
  {
   "cell_type": "code",
   "execution_count": 8,
   "id": "09dc63bf",
   "metadata": {},
   "outputs": [
    {
     "data": {
      "text/html": [
       "<div>\n",
       "<style scoped>\n",
       "    .dataframe tbody tr th:only-of-type {\n",
       "        vertical-align: middle;\n",
       "    }\n",
       "\n",
       "    .dataframe tbody tr th {\n",
       "        vertical-align: top;\n",
       "    }\n",
       "\n",
       "    .dataframe thead th {\n",
       "        text-align: right;\n",
       "    }\n",
       "</style>\n",
       "<table border=\"1\" class=\"dataframe\">\n",
       "  <thead>\n",
       "    <tr style=\"text-align: right;\">\n",
       "      <th></th>\n",
       "      <th>Invoice ID</th>\n",
       "      <th>Branch</th>\n",
       "      <th>City</th>\n",
       "      <th>Customer type</th>\n",
       "      <th>Gender</th>\n",
       "      <th>Product line</th>\n",
       "      <th>Unit price</th>\n",
       "      <th>Quantity</th>\n",
       "      <th>Date</th>\n",
       "      <th>Time</th>\n",
       "      <th>Payment</th>\n",
       "      <th>Rating</th>\n",
       "    </tr>\n",
       "  </thead>\n",
       "  <tbody>\n",
       "    <tr>\n",
       "      <th>0</th>\n",
       "      <td>750-67-8428</td>\n",
       "      <td>A</td>\n",
       "      <td>Yangon</td>\n",
       "      <td>Member</td>\n",
       "      <td>Female</td>\n",
       "      <td>Health and beauty</td>\n",
       "      <td>74.69</td>\n",
       "      <td>7</td>\n",
       "      <td>1/5/2019</td>\n",
       "      <td>13:08:00</td>\n",
       "      <td>Ewallet</td>\n",
       "      <td>9.1</td>\n",
       "    </tr>\n",
       "    <tr>\n",
       "      <th>1</th>\n",
       "      <td>226-31-3081</td>\n",
       "      <td>A</td>\n",
       "      <td>Naypyitaw</td>\n",
       "      <td>Normal</td>\n",
       "      <td>Female</td>\n",
       "      <td>Electronic accessories</td>\n",
       "      <td>15.28</td>\n",
       "      <td>5</td>\n",
       "      <td>3/8/2019</td>\n",
       "      <td>10:29:00</td>\n",
       "      <td>Cash</td>\n",
       "      <td>9.6</td>\n",
       "    </tr>\n",
       "    <tr>\n",
       "      <th>2</th>\n",
       "      <td>631-41-3108</td>\n",
       "      <td>A</td>\n",
       "      <td>Yangon</td>\n",
       "      <td>Normal</td>\n",
       "      <td>Male</td>\n",
       "      <td>Home and lifestyle</td>\n",
       "      <td>46.33</td>\n",
       "      <td>7</td>\n",
       "      <td>3/3/2019</td>\n",
       "      <td>13:23:00</td>\n",
       "      <td>Credit card</td>\n",
       "      <td>7.4</td>\n",
       "    </tr>\n",
       "    <tr>\n",
       "      <th>3</th>\n",
       "      <td>123-19-1176</td>\n",
       "      <td>B</td>\n",
       "      <td>Yangon</td>\n",
       "      <td>Member</td>\n",
       "      <td>Male</td>\n",
       "      <td>Health and beauty</td>\n",
       "      <td>58.22</td>\n",
       "      <td>8</td>\n",
       "      <td>1/27/2019</td>\n",
       "      <td>20:33:00</td>\n",
       "      <td>Ewallet</td>\n",
       "      <td>8.4</td>\n",
       "    </tr>\n",
       "    <tr>\n",
       "      <th>4</th>\n",
       "      <td>373-73-7910</td>\n",
       "      <td>C</td>\n",
       "      <td>Yangon</td>\n",
       "      <td>Normal</td>\n",
       "      <td>Male</td>\n",
       "      <td>Sports and travel</td>\n",
       "      <td>86.31</td>\n",
       "      <td>7</td>\n",
       "      <td>2/8/2019</td>\n",
       "      <td>10:37:00</td>\n",
       "      <td>Ewallet</td>\n",
       "      <td>5.3</td>\n",
       "    </tr>\n",
       "    <tr>\n",
       "      <th>5</th>\n",
       "      <td>699-14-3026</td>\n",
       "      <td>B</td>\n",
       "      <td>Naypyitaw</td>\n",
       "      <td>Normal</td>\n",
       "      <td>Male</td>\n",
       "      <td>Electronic accessories</td>\n",
       "      <td>85.39</td>\n",
       "      <td>7</td>\n",
       "      <td>3/25/2019</td>\n",
       "      <td>18:30:00</td>\n",
       "      <td>Ewallet</td>\n",
       "      <td>4.1</td>\n",
       "    </tr>\n",
       "    <tr>\n",
       "      <th>6</th>\n",
       "      <td>355-53-5943</td>\n",
       "      <td>A</td>\n",
       "      <td>Yangon</td>\n",
       "      <td>Member</td>\n",
       "      <td>Female</td>\n",
       "      <td>Electronic accessories</td>\n",
       "      <td>68.84</td>\n",
       "      <td>6</td>\n",
       "      <td>2/25/2019</td>\n",
       "      <td>14:36:00</td>\n",
       "      <td>Ewallet</td>\n",
       "      <td>5.8</td>\n",
       "    </tr>\n",
       "    <tr>\n",
       "      <th>7</th>\n",
       "      <td>315-22-5665</td>\n",
       "      <td>C</td>\n",
       "      <td>Naypyitaw</td>\n",
       "      <td>Normal</td>\n",
       "      <td>Female</td>\n",
       "      <td>Home and lifestyle</td>\n",
       "      <td>73.56</td>\n",
       "      <td>10</td>\n",
       "      <td>2/24/2019</td>\n",
       "      <td>11:38:00</td>\n",
       "      <td>Ewallet</td>\n",
       "      <td>8.0</td>\n",
       "    </tr>\n",
       "    <tr>\n",
       "      <th>8</th>\n",
       "      <td>665-32-9167</td>\n",
       "      <td>B</td>\n",
       "      <td>Yangon</td>\n",
       "      <td>Member</td>\n",
       "      <td>Female</td>\n",
       "      <td>Health and beauty</td>\n",
       "      <td>36.26</td>\n",
       "      <td>2</td>\n",
       "      <td>1/10/2019</td>\n",
       "      <td>17:15:00</td>\n",
       "      <td>Credit card</td>\n",
       "      <td>7.2</td>\n",
       "    </tr>\n",
       "    <tr>\n",
       "      <th>9</th>\n",
       "      <td>692-92-5582</td>\n",
       "      <td>A</td>\n",
       "      <td>Mandalay</td>\n",
       "      <td>Member</td>\n",
       "      <td>Female</td>\n",
       "      <td>Food and beverages</td>\n",
       "      <td>54.84</td>\n",
       "      <td>3</td>\n",
       "      <td>2/20/2019</td>\n",
       "      <td>13:27:00</td>\n",
       "      <td>Credit card</td>\n",
       "      <td>5.9</td>\n",
       "    </tr>\n",
       "  </tbody>\n",
       "</table>\n",
       "</div>"
      ],
      "text/plain": [
       "    Invoice ID Branch       City Customer type  Gender  \\\n",
       "0  750-67-8428      A     Yangon        Member  Female   \n",
       "1  226-31-3081      A  Naypyitaw        Normal  Female   \n",
       "2  631-41-3108      A     Yangon        Normal    Male   \n",
       "3  123-19-1176      B     Yangon        Member    Male   \n",
       "4  373-73-7910      C     Yangon        Normal    Male   \n",
       "5  699-14-3026      B  Naypyitaw        Normal    Male   \n",
       "6  355-53-5943      A     Yangon        Member  Female   \n",
       "7  315-22-5665      C  Naypyitaw        Normal  Female   \n",
       "8  665-32-9167      B     Yangon        Member  Female   \n",
       "9  692-92-5582      A   Mandalay        Member  Female   \n",
       "\n",
       "             Product line  Unit price  Quantity       Date      Time  \\\n",
       "0       Health and beauty       74.69         7   1/5/2019  13:08:00   \n",
       "1  Electronic accessories       15.28         5   3/8/2019  10:29:00   \n",
       "2      Home and lifestyle       46.33         7   3/3/2019  13:23:00   \n",
       "3       Health and beauty       58.22         8  1/27/2019  20:33:00   \n",
       "4       Sports and travel       86.31         7   2/8/2019  10:37:00   \n",
       "5  Electronic accessories       85.39         7  3/25/2019  18:30:00   \n",
       "6  Electronic accessories       68.84         6  2/25/2019  14:36:00   \n",
       "7      Home and lifestyle       73.56        10  2/24/2019  11:38:00   \n",
       "8       Health and beauty       36.26         2  1/10/2019  17:15:00   \n",
       "9      Food and beverages       54.84         3  2/20/2019  13:27:00   \n",
       "\n",
       "       Payment  Rating  \n",
       "0      Ewallet     9.1  \n",
       "1         Cash     9.6  \n",
       "2  Credit card     7.4  \n",
       "3      Ewallet     8.4  \n",
       "4      Ewallet     5.3  \n",
       "5      Ewallet     4.1  \n",
       "6      Ewallet     5.8  \n",
       "7      Ewallet     8.0  \n",
       "8  Credit card     7.2  \n",
       "9  Credit card     5.9  "
      ]
     },
     "execution_count": 8,
     "metadata": {},
     "output_type": "execute_result"
    }
   ],
   "source": [
    "walmart_data.head(10)\n",
    "#check data of the table"
   ]
  },
  {
   "cell_type": "code",
   "execution_count": 9,
   "id": "fd984fd2",
   "metadata": {},
   "outputs": [
    {
     "name": "stdout",
     "output_type": "stream",
     "text": [
      "Invoice ID       0\n",
      "Branch           0\n",
      "City             0\n",
      "Customer type    0\n",
      "Gender           0\n",
      "Product line     0\n",
      "Unit price       0\n",
      "Quantity         0\n",
      "Date             0\n",
      "Time             0\n",
      "Payment          0\n",
      "Rating           0\n",
      "dtype: int64\n"
     ]
    }
   ],
   "source": [
    "# Check for missing values in each column\n",
    "print(walmart_data.isnull().sum())\n"
   ]
  },
  {
   "cell_type": "code",
   "execution_count": 10,
   "id": "93e1162c",
   "metadata": {},
   "outputs": [
    {
     "name": "stdout",
     "output_type": "stream",
     "text": [
      "Duplicate rows: 0\n"
     ]
    }
   ],
   "source": [
    "# Check for duplicate rows\n",
    "print(\"Duplicate rows:\", walmart_data.duplicated().sum())\n",
    "\n",
    "# Drop duplicate rows\n",
    "walmart_data_cleaned = walmart_data.drop_duplicates()\n"
   ]
  },
  {
   "cell_type": "code",
   "execution_count": 14,
   "id": "23a25506",
   "metadata": {},
   "outputs": [
    {
     "name": "stdout",
     "output_type": "stream",
     "text": [
      "Index(['Invoice ID', 'Branch', 'City', 'Customer type', 'Gender',\n",
      "       'Product line', 'Unit price', 'Quantity', 'Date', 'Time', 'Payment',\n",
      "       'Rating'],\n",
      "      dtype='object')\n"
     ]
    }
   ],
   "source": [
    "print(walmart_data.columns)"
   ]
  },
  {
   "cell_type": "code",
   "execution_count": 15,
   "id": "220b3423",
   "metadata": {},
   "outputs": [],
   "source": [
    "# Update aggregation based on actual column names\n",
    "city_branch_performance = walmart_data.groupby(['City', 'Branch']).agg({\n",
    "    'Quantity': 'sum',           # Calculate total quantity sold\n",
    "    'Unit price': 'mean',        # Calculate average unit price\n",
    "}).reset_index()"
   ]
  },
  {
   "cell_type": "code",
   "execution_count": 16,
   "id": "0d681bc9",
   "metadata": {},
   "outputs": [
    {
     "name": "stdout",
     "output_type": "stream",
     "text": [
      "Performance of Sales and Revenue at City and Branch Level:\n",
      "        City Branch  Quantity  Unit price\n",
      "0   Mandalay      A       637   53.353866\n",
      "1   Mandalay      B       664   56.133305\n",
      "2   Mandalay      C       519   57.958316\n",
      "3  Naypyitaw      A       648   54.123182\n",
      "4  Naypyitaw      B       604   57.785688\n",
      "5  Naypyitaw      C       579   57.941009\n",
      "6     Yangon      A       598   55.639298\n",
      "7     Yangon      B       631   56.011062\n",
      "8     Yangon      C       630   52.684602\n"
     ]
    }
   ],
   "source": [
    "print(\"Performance of Sales and Revenue at City and Branch Level:\")\n",
    "print(city_branch_performance)"
   ]
  },
  {
   "cell_type": "code",
   "execution_count": 18,
   "id": "39f4ce29",
   "metadata": {},
   "outputs": [
    {
     "name": "stdout",
     "output_type": "stream",
     "text": [
      "Average Price of an Item Sold at Each Branch of the City:\n",
      "        City Branch  Unit price\n",
      "0   Mandalay      A   53.353866\n",
      "1   Mandalay      B   56.133305\n",
      "2   Mandalay      C   57.958316\n",
      "3  Naypyitaw      A   54.123182\n",
      "4  Naypyitaw      B   57.785688\n",
      "5  Naypyitaw      C   57.941009\n",
      "6     Yangon      A   55.639298\n",
      "7     Yangon      B   56.011062\n",
      "8     Yangon      C   52.684602\n"
     ]
    }
   ],
   "source": [
    "# Group by 'City' and 'Branch', then calculate average price of items sold\n",
    "avg_price_by_branch = walmart_data.groupby(['City', 'Branch'])['Unit price'].mean().reset_index()\n",
    "\n",
    "# Display the average price of an item sold at each branch of the city\n",
    "print(\"Average Price of an Item Sold at Each Branch of the City:\")\n",
    "print(avg_price_by_branch)"
   ]
  },
  {
   "cell_type": "code",
   "execution_count": 20,
   "id": "f5e99b4b",
   "metadata": {},
   "outputs": [],
   "source": [
    "# Convert 'Date' column to datetime type\n",
    "walmart_data['Date'] = pd.to_datetime(walmart_data['Date'])"
   ]
  },
  {
   "cell_type": "code",
   "execution_count": 21,
   "id": "fd38a389",
   "metadata": {},
   "outputs": [],
   "source": [
    "# Extract month and year from 'Date' column\n",
    "walmart_data['Month'] = walmart_data['Date'].dt.month\n",
    "walmart_data['Year'] = walmart_data['Date'].dt.year"
   ]
  },
  {
   "cell_type": "code",
   "execution_count": 24,
   "id": "b63f7dcf",
   "metadata": {},
   "outputs": [
    {
     "name": "stdout",
     "output_type": "stream",
     "text": [
      "Index(['Invoice ID', 'Branch', 'City', 'Customer type', 'Gender',\n",
      "       'Product line', 'Unit price', 'Quantity', 'Date', 'Time', 'Payment',\n",
      "       'Rating', 'Month', 'Year'],\n",
      "      dtype='object')\n"
     ]
    }
   ],
   "source": [
    "print(walmart_data.columns)\n"
   ]
  },
  {
   "cell_type": "code",
   "execution_count": 25,
   "id": "1f16b4e4",
   "metadata": {},
   "outputs": [
    {
     "name": "stdout",
     "output_type": "stream",
     "text": [
      "    Invoice ID Branch       City Customer type  Gender  \\\n",
      "0  750-67-8428      A     Yangon        Member  Female   \n",
      "1  226-31-3081      A  Naypyitaw        Normal  Female   \n",
      "2  631-41-3108      A     Yangon        Normal    Male   \n",
      "3  123-19-1176      B     Yangon        Member    Male   \n",
      "4  373-73-7910      C     Yangon        Normal    Male   \n",
      "\n",
      "             Product line  Unit price  Quantity       Date      Time  \\\n",
      "0       Health and beauty       74.69         7 2019-01-05  13:08:00   \n",
      "1  Electronic accessories       15.28         5 2019-03-08  10:29:00   \n",
      "2      Home and lifestyle       46.33         7 2019-03-03  13:23:00   \n",
      "3       Health and beauty       58.22         8 2019-01-27  20:33:00   \n",
      "4       Sports and travel       86.31         7 2019-02-08  10:37:00   \n",
      "\n",
      "       Payment  Rating  Month  Year  Revenue  \n",
      "0      Ewallet     9.1      1  2019   522.83  \n",
      "1         Cash     9.6      3  2019    76.40  \n",
      "2  Credit card     7.4      3  2019   324.31  \n",
      "3      Ewallet     8.4      1  2019   465.76  \n",
      "4      Ewallet     5.3      2  2019   604.17  \n"
     ]
    }
   ],
   "source": [
    "# Calculate Revenue for each transaction\n",
    "walmart_data['Revenue'] = walmart_data['Unit price'] * walmart_data['Quantity']\n",
    "\n",
    "# Display the updated DataFrame with the Revenue column\n",
    "print(walmart_data.head())  # Assuming you want to see the first few rows"
   ]
  },
  {
   "cell_type": "code",
   "execution_count": 26,
   "id": "fa576e37",
   "metadata": {},
   "outputs": [
    {
     "name": "stdout",
     "output_type": "stream",
     "text": [
      "Focus Areas to Improve Sales for April 2019:\n",
      "Empty DataFrame\n",
      "Columns: [Year, Month, Product line, Gender, Payment, Quantity, Revenue]\n",
      "Index: []\n"
     ]
    }
   ],
   "source": [
    "# Group by month, product line, gender, and payment method, then calculate total sales and revenue\n",
    "monthly_performance = walmart_data.groupby(['Year', 'Month', 'Product line', 'Gender', 'Payment']).agg({\n",
    "    'Quantity': 'sum',       # Calculate total quantity sold\n",
    "    'Revenue': 'sum'         # Calculate total revenue\n",
    "}).reset_index()\n",
    "\n",
    "# Filter data for April 2019\n",
    "april_2019_data = monthly_performance[(monthly_performance['Year'] == 2019) & (monthly_performance['Month'] == 4)]\n",
    "\n",
    "# Display the focus areas for better sales in April 2019\n",
    "print(\"Focus Areas to Improve Sales for April 2019:\")\n",
    "print(april_2019_data)"
   ]
  },
  {
   "cell_type": "code",
   "execution_count": null,
   "id": "f9658df7",
   "metadata": {},
   "outputs": [],
   "source": []
  }
 ],
 "metadata": {
  "kernelspec": {
   "display_name": "Python 3 (ipykernel)",
   "language": "python",
   "name": "python3"
  },
  "language_info": {
   "codemirror_mode": {
    "name": "ipython",
    "version": 3
   },
   "file_extension": ".py",
   "mimetype": "text/x-python",
   "name": "python",
   "nbconvert_exporter": "python",
   "pygments_lexer": "ipython3",
   "version": "3.11.5"
  }
 },
 "nbformat": 4,
 "nbformat_minor": 5
}
